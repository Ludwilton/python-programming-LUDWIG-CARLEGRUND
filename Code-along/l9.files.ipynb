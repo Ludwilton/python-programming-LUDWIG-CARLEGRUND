{
 "cells": [
  {
   "cell_type": "markdown",
   "metadata": {},
   "source": [
    "with open(path, option) as file_name:\n",
    "\n",
    "r - read\n",
    "a - \n",
    "w - write, creates if not exist\n",
    "x -  create"
   ]
  },
  {
   "cell_type": "code",
   "execution_count": 2,
   "metadata": {},
   "outputs": [
    {
     "name": "stdout",
     "output_type": "stream",
     "text": [
      "'  If     we     knew what it was      we were doing, it would not be called research,          would it?     - Albert Einstein\\n\\nTime is a drug. Too       much of it kills you.  -  Terry Pratchett\\n\\n\\n An expert is a person who       has made all the mistakes that           can be made in a          very narrow field - Niels Bohr\\n\\n   Everything must be made as simple as possible. But not simpler. - Albert Einstein     \\n\\n\\n  Nothing in life                is to be feared, it is only to be understood. Now is the time to understand more, so that we may fear less. - Marie  Curie  \\n\\nIf I have seen further     it is by standing on the shoulders of Giants. - Isaac Newton'\n"
     ]
    }
   ],
   "source": [
    "path = \"/Users/luddecmc/Desktop/SKOLARBETE-ITHS/repos/python-programming-LUDWIG-CARLEGRUND/Data/quotes.txt\"\n",
    "\n",
    "with open(path, \"r\") as f:\n",
    "    text=f.read() # reads whole file\n",
    "\n",
    "\n",
    "print(repr(text))"
   ]
  },
  {
   "cell_type": "code",
   "execution_count": 6,
   "metadata": {},
   "outputs": [],
   "source": [
    "import re\n",
    "\n",
    "quotes, i = [], 1\n",
    "\n",
    "with open(path, \"r\") as f_read, open(\"../Data/quotes_cleaned.txt\", \"x\") as f_write:\n",
    "    f_write.write(\"Famous Quotes\\n\\n\")\n",
    "    for quote in f_read:\n",
    "        quote = quote.strip(\" \\n\")\n",
    "        quote = re.sub(r\" +\", \" \", quote) # ersätter en eller flera blanksteg med bara ett blanksteg\n",
    "        if quote != \"\": # om quote inte är tom skriv #numrering + quote\n",
    "            f_write.write(f\"{i}. {quote}\\n\")\n",
    "            i += 1"
   ]
  },
  {
   "cell_type": "markdown",
   "metadata": {},
   "source": [
    "check for digits to find the quotes extract\n",
    "\n",
    "first name and last names\n",
    "\n",
    "join them into full name \n",
    "\n",
    "extract unique values"
   ]
  },
  {
   "cell_type": "code",
   "execution_count": 13,
   "metadata": {},
   "outputs": [
    {
     "name": "stdout",
     "output_type": "stream",
     "text": [
      "{'Isaac Newton', 'Niels Bohr', 'Marie Curie', 'Terry Pratchett', 'Albert Einstein'}\n"
     ]
    }
   ],
   "source": [
    "with open(\"../Data/quotes_cleaned.txt\", \"r\") as f_read, open(\"../Data/quotes_cleaned.txt\", \"a\") as f_append:\n",
    "    quotes = [quote.strip(\"\\n\") for quote in f_read.readlines() if quote[0].isdigit()] # varje rad i en lista om raden börjar med en siffa\n",
    "    authors = [quote.split()[-2:] for quote in quotes] # tar sista 2 orden -  alltså namnen\n",
    "    authors = set([\" \".join(author) for author in authors]) # metod för att ta bort dubletter\n",
    "    print(authors)\n",
    "\n",
    "    f_append.write(\"\\nAuthors: \")\n",
    "    for author in authors:\n",
    "        f_append.write(f\"{author}, \")\n",
    "\n"
   ]
  }
 ],
 "metadata": {
  "kernelspec": {
   "display_name": "Python 3",
   "language": "python",
   "name": "python3"
  },
  "language_info": {
   "codemirror_mode": {
    "name": "ipython",
    "version": 3
   },
   "file_extension": ".py",
   "mimetype": "text/x-python",
   "name": "python",
   "nbconvert_exporter": "python",
   "pygments_lexer": "ipython3",
   "version": "3.12.2"
  }
 },
 "nbformat": 4,
 "nbformat_minor": 2
}
