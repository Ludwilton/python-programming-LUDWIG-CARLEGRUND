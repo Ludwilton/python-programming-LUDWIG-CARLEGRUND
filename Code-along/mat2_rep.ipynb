{
 "cells": [
  {
   "cell_type": "markdown",
   "metadata": {},
   "source": [
    "Polynom\n",
    "ett polynom\n",
    "\n",
    "p[x] = kx + m | grad 1 polynom, k kan vara vad som helst samt m\n",
    "\n",
    "ex \n",
    "p = x + 1, x , 2x+9\n",
    "\n",
    "polynom är inte ekvationer, polynom är det som står på högersidan\n",
    "\n",
    "en polynom av \"nollte\" graden är en konstant\n",
    "\n",
    "# polynom av andra graden\n",
    "\n",
    "p[x] = ax^2 + bx + c | grad 2, 2 är den högsta potensen, a,b,c kan vara vad som helst\n",
    "x^2 -2x + 1\n",
    "x^2\n",
    "\n",
    "p[x] = ax^3 + bx^2 + cx + d | grad 3\n",
    "\n",
    "\n"
   ]
  },
  {
   "cell_type": "markdown",
   "metadata": {},
   "source": []
  },
  {
   "cell_type": "markdown",
   "metadata": {},
   "source": [
    "#### i datorn så kan vi representera polynom som vektorer (listor)\n",
    "\n",
    "[a0, ..., aN] = a0 + a, x + a2x^2+...+0nx^n\n",
    "\n",
    "\n",
    "\n"
   ]
  },
  {
   "cell_type": "markdown",
   "metadata": {},
   "source": [
    "#### kvadrering/konjugat\n",
    "\n",
    "\n",
    "$(x + y)^2 = x^2 +2xy +y^2$         \n",
    "                                  \n",
    "$(x - y)^2 = x^2 -2xy +y^2$         \n",
    "                                    \n",
    "$(x+y)(x-y) = x^2 + y^2$            \n",
    "\n",
    "| faktorisering\n",
    "  | $ax^2+bx+c = 0$   \n",
    "  | $x^2 -2x+1 = 0$ \n",
    "  |       $x=1+- sqrt0$\n",
    "  | x0"
   ]
  },
  {
   "cell_type": "markdown",
   "metadata": {},
   "source": [
    "# linjära ekvationssystem\n",
    "$kx+m$\n",
    "\n",
    "{2x +1 = y}\n",
    "{-x +1 = y}\n",
    "\n",
    "substitution\n",
    "2x+1 = -x+1\n",
    "= 3x = 0\n",
    "\n",
    "#### radoperation (additionsmetoden)\n",
    "vi tar en rad och gångrar med en konstant sen lägger till till en annan rad\n",
    "\n",
    "$2x+1 - (-x+1) = y-y$\n",
    "\n",
    "$2x+1+x-1 = 0$\n",
    "\n",
    "$3x = 0$ \n",
    "#### gauss elimination\n",
    "\n",
    "antingen så skärs en punkt\n",
    "eller parallel\n",
    "eller på samma linje\n",
    "\n",
    "ingen lösning\n",
    "entydig lösning\n",
    "oöndligt många lösningar\n",
    "\n"
   ]
  },
  {
   "cell_type": "markdown",
   "metadata": {},
   "source": []
  },
  {
   "cell_type": "markdown",
   "metadata": {},
   "source": [
    "#### potenser och logaritmer\n",
    "används för att linjärisera logaritmiska funktioner\n",
    "\n",
    "vi bryr oss inte om andra logaritmer $ln e = 1$\n",
    "\n",
    "naturliga logaritmen $e^x$\n",
    "\n",
    "$ln x ^a = a*ln x$\n",
    "\n",
    "$ln e = 1$\n",
    "\n",
    "$ln e^a = a * lne = a$\n",
    "\n",
    "$e^lna = a = lne^a$\n",
    "\n",
    "$ln(x*y) = ln x + ln y$\n",
    "\n",
    "$ln (x/y) = lnx - lny ln(1/x) = - x$"
   ]
  },
  {
   "cell_type": "markdown",
   "metadata": {},
   "source": [
    "bevisföring\n",
    "vad är ett bevis? ett bevis är ett logiskt resonemang som leder till en viss slutssats\n",
    "\n",
    "exempel: pythagoras sats\n",
    "\n",
    "_från_:  $(a+b)^2 = 2ab+c^2$\n",
    "\n",
    "...\n",
    "\n",
    "_till_: $a^2+b^2=c^2$\n",
    "\n",
    "en sekvens av operationer som leder till ett visst sluttillstånd är =\n",
    "ett bevis, ett program och en algorithm är _samma sak_\n",
    "\n"
   ]
  },
  {
   "cell_type": "markdown",
   "metadata": {},
   "source": [
    "#### tips\n",
    "\n",
    "radoperation (additionsmetoden)\n",
    "matteboken\n",
    "\n",
    "linjära transformationer\n"
   ]
  }
 ],
 "metadata": {
  "language_info": {
   "name": "python"
  }
 },
 "nbformat": 4,
 "nbformat_minor": 2
}
