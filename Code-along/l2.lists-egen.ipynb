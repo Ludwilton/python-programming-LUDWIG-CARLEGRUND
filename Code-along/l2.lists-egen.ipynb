{
 "cells": [
  {
   "cell_type": "markdown",
   "metadata": {},
   "source": [
    "# lists"
   ]
  },
  {
   "cell_type": "code",
   "execution_count": 12,
   "metadata": {},
   "outputs": [
    {
     "name": "stdout",
     "output_type": "stream",
     "text": [
      "tv_shows[0]: antikrundan\n",
      "tv_shows[1]: mästerkockarna\n",
      "tv_shows[2]: aktuellt\n",
      "tv_shows[-1]: talang\n"
     ]
    }
   ],
   "source": [
    "tv_shows = [\"antikrundan\", \"mästerkockarna\", \"aktuellt\", \"talang\"]\n",
    "print(f\"tv_shows[0]: {tv_shows[0]}\")\n",
    "print(f\"tv_shows[1]: {tv_shows[1]}\")\n",
    "print(f\"tv_shows[2]: {tv_shows[2]}\")\n",
    "\n",
    "print(f\"tv_shows[-1]: {tv_shows[-1]}\")"
   ]
  },
  {
   "cell_type": "code",
   "execution_count": 13,
   "metadata": {},
   "outputs": [
    {
     "data": {
      "text/plain": [
       "['Vetenskapens Värld', 'mästerkockarna', 'aktuellt', 'talang', 'Pokemon']"
      ]
     },
     "execution_count": 13,
     "metadata": {},
     "output_type": "execute_result"
    }
   ],
   "source": [
    "tv_shows[0] = \"Vetenskapens Värld\"\n",
    "\n",
    "tv_shows.append(\"Pokemon\")\n",
    "tv_shows"
   ]
  },
  {
   "cell_type": "code",
   "execution_count": 14,
   "metadata": {},
   "outputs": [
    {
     "name": "stdout",
     "output_type": "stream",
     "text": [
      "['mästerkockarna', 'aktuellt']\n"
     ]
    }
   ],
   "source": [
    "print(tv_shows[1:3])"
   ]
  },
  {
   "cell_type": "code",
   "execution_count": 16,
   "metadata": {},
   "outputs": [
    {
     "name": "stdout",
     "output_type": "stream",
     "text": [
      "['zeta', 'beta', 'alpha', 'gamma', 'iota'] ['alpha', 'beta', 'gamma', 'iota', 'zeta']\n"
     ]
    }
   ],
   "source": [
    "greek_letters = [\"zeta\", \"beta\", \"alpha\", \"gamma\", \"iota\"]\n",
    "sort_letters = sorted(greek_letters)\n",
    "print(greek_letters, sort_letters)"
   ]
  },
  {
   "cell_type": "code",
   "execution_count": null,
   "metadata": {},
   "outputs": [],
   "source": []
  }
 ],
 "metadata": {
  "kernelspec": {
   "display_name": "Python 3",
   "language": "python",
   "name": "python3"
  },
  "language_info": {
   "codemirror_mode": {
    "name": "ipython",
    "version": 3
   },
   "file_extension": ".py",
   "mimetype": "text/x-python",
   "name": "python",
   "nbconvert_exporter": "python",
   "pygments_lexer": "ipython3",
   "version": "3.12.2"
  }
 },
 "nbformat": 4,
 "nbformat_minor": 2
}
