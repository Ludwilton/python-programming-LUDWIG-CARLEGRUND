{
 "cells": [
  {
   "cell_type": "markdown",
   "metadata": {},
   "source": [
    "# lists"
   ]
  },
  {
   "cell_type": "code",
   "execution_count": 12,
   "metadata": {},
   "outputs": [
    {
     "name": "stdout",
     "output_type": "stream",
     "text": [
      "tv_shows[0]: antikrundan\n",
      "tv_shows[1]: mästerkockarna\n",
      "tv_shows[2]: aktuellt\n",
      "tv_shows[-1]: talang\n"
     ]
    }
   ],
   "source": [
    "tv_shows = [\"antikrundan\", \"mästerkockarna\", \"aktuellt\", \"talang\"]\n",
    "print(f\"tv_shows[0]: {tv_shows[0]}\")\n",
    "print(f\"tv_shows[1]: {tv_shows[1]}\")\n",
    "print(f\"tv_shows[2]: {tv_shows[2]}\")\n",
    "\n",
    "print(f\"tv_shows[-1]: {tv_shows[-1]}\")"
   ]
  },
  {
   "cell_type": "code",
   "execution_count": 13,
   "metadata": {},
   "outputs": [
    {
     "data": {
      "text/plain": [
       "['Vetenskapens Värld', 'mästerkockarna', 'aktuellt', 'talang', 'Pokemon']"
      ]
     },
     "execution_count": 13,
     "metadata": {},
     "output_type": "execute_result"
    }
   ],
   "source": [
    "tv_shows[0] = \"Vetenskapens Värld\"\n",
    "\n",
    "tv_shows.append(\"Pokemon\")\n",
    "tv_shows"
   ]
  },
  {
   "cell_type": "code",
   "execution_count": 14,
   "metadata": {},
   "outputs": [
    {
     "name": "stdout",
     "output_type": "stream",
     "text": [
      "['mästerkockarna', 'aktuellt']\n"
     ]
    }
   ],
   "source": [
    "print(tv_shows[1:3])"
   ]
  },
  {
   "cell_type": "code",
   "execution_count": 16,
   "metadata": {},
   "outputs": [
    {
     "name": "stdout",
     "output_type": "stream",
     "text": [
      "['zeta', 'beta', 'alpha', 'gamma', 'iota'] ['alpha', 'beta', 'gamma', 'iota', 'zeta']\n"
     ]
    }
   ],
   "source": [
    "greek_letters = [\"zeta\", \"beta\", \"alpha\", \"gamma\", \"iota\"]\n",
    "sort_letters = sorted(greek_letters)\n",
    "print(greek_letters, sort_letters)"
   ]
  },
  {
   "cell_type": "code",
   "execution_count": 10,
   "metadata": {},
   "outputs": [
    {
     "name": "stdout",
     "output_type": "stream",
     "text": [
      "[2, 4, 6, 2]\n"
     ]
    }
   ],
   "source": [
    "ls = [1,2,3,4,5,6]\n",
    "my_list = [l for l in ls if l % 2 == 0]\n",
    "my_list.append(2)\n",
    "print(my_list)"
   ]
  },
  {
   "cell_type": "code",
   "execution_count": 13,
   "metadata": {},
   "outputs": [
    {
     "name": "stdout",
     "output_type": "stream",
     "text": [
      "{1, 2, 3, 4, 5, 6, 7, 8, 9, 10}\n"
     ]
    }
   ],
   "source": [
    "lst = {i for i in range(1,11)}\n",
    "lst.add(1)\n",
    "print(lst)"
   ]
  },
  {
   "cell_type": "code",
   "execution_count": 80,
   "metadata": {},
   "outputs": [
    {
     "data": {
      "image/png": "[encoded data removed]",
      "text/plain": [
       "<Figure size 500x500 with 1 Axes>"
      ]
     },
     "metadata": {},
     "output_type": "display_data"
    }
   ],
   "source": [
    "import matplotlib.pyplot as plt\n",
    "x = list(range(-10,10))\n",
    "k = 2\n",
    "m = 2\n",
    "y = [k*x+m for x in x]\n",
    "\n",
    "\n",
    "plt.figure(figsize=(5, 5))\n",
    "plt.plot(x , y, label=\"Plot\")\n",
    "plt.title(\"Plot y = 2x + 2\")\n",
    "\n",
    "plt.xlabel(\"X\")\n",
    "plt.ylabel(\"Y\")\n",
    "plt.ylim((-10,10))\n",
    "plt.xlim((-10,10))\n",
    "plt.grid(True)\n"
   ]
  },
  {
   "cell_type": "code",
   "execution_count": 57,
   "metadata": {},
   "outputs": [
    {
     "name": "stdout",
     "output_type": "stream",
     "text": [
      "\n",
      "Name: Ludwig Carlegrund\n",
      "School: IT-Högskolan\n",
      "Address: Ebbe Lieberathsgatan\n",
      "Phone: 1-800-school\n",
      "\n"
     ]
    }
   ],
   "source": [
    "firstname = \"Ludwig\"\n",
    "lastname = \"Carlegrund\"\n",
    "\n",
    "fullname = firstname + \" \" + lastname\n",
    "school = \"IT-Högskolan\"\n",
    "address = \"Ebbe Lieberathsgatan\"\n",
    "phone = \"1-800-school\"\n",
    "\n",
    "contact_details = f\"\"\"\n",
    "Name: {fullname}\n",
    "School: {school}\n",
    "Address: {address}\n",
    "Phone: {phone}\n",
    "\"\"\"\n",
    "\n",
    "print(contact_details)"
   ]
  },
  {
   "cell_type": "code",
   "execution_count": 58,
   "metadata": {},
   "outputs": [
    {
     "name": "stdout",
     "output_type": "stream",
     "text": [
      "veckomeny\n",
      "Må: Chili sin carne \n",
      "Ti: nudlar \n",
      "On: pokebowl \n",
      "To: Pannkakor \n",
      "Fr: Tacos \n",
      "\n"
     ]
    }
   ],
   "source": [
    "bamba = [\"Chili sin carne\", \"nudlar\", \"pokebowl\", \"Pannkakor\", \"Tacos\"]\n",
    "days = [\"Må\", \"Ti\", \"On\", \"To\", \"Fr\"]\n",
    "\n",
    "menu = \"veckomeny\\n\"\n",
    "\n",
    "for day, food, in zip(days, bamba):\n",
    "    menu += f\"{day}: {food} \\n\"\n",
    "\n",
    "print(menu)"
   ]
  },
  {
   "cell_type": "code",
   "execution_count": 59,
   "metadata": {},
   "outputs": [
    {
     "name": "stdout",
     "output_type": "stream",
     "text": [
      "qutote[0]: !\n",
      "quote[5:10]: e -  \n",
      "quote[-4]: T\n",
      "quote[-4]: True\n",
      "quote[::-1]: eurT s'ti esuaceb ynnuf s'ti  - eslaF!\n"
     ]
    }
   ],
   "source": [
    "quote = \"!False -  it's funny because it's True\"\n",
    "print(f\"qutote[0]: {quote[0]}\")\n",
    "print(f\"quote[5:10]: {quote[5:10]}\")\n",
    "print(f\"quote[-4]: {quote[-4]}\")\n",
    "print(f\"quote[-4]: {quote[-4:]}\")\n",
    "print(f\"quote[::-1]: {quote[::-1]}\")\n"
   ]
  },
  {
   "cell_type": "code",
   "execution_count": 60,
   "metadata": {},
   "outputs": [
    {
     "name": "stdout",
     "output_type": "stream",
     "text": [
      "['Math', ' biology', ' chemistry', ' programming']\n",
      "['Math', 'biology', 'chemistry', 'programming']\n",
      "['MATH', 'BIOLOGY', 'CHEMISTRY', 'PROGRAMMING']\n",
      "['math', 'biology', 'chemistry', 'programming']\n"
     ]
    },
    {
     "ename": "NameError",
     "evalue": "name 'title' is not defined",
     "output_type": "error",
     "traceback": [
      "\u001b[0;31m---------------------------------------------------------------------------\u001b[0m",
      "\u001b[0;31mNameError\u001b[0m                                 Traceback (most recent call last)",
      "Cell \u001b[0;32mIn[60], line 12\u001b[0m\n\u001b[1;32m      9\u001b[0m \u001b[38;5;28mprint\u001b[39m(upper)\n\u001b[1;32m     10\u001b[0m \u001b[38;5;28mprint\u001b[39m(lower)\n\u001b[0;32m---> 12\u001b[0m \u001b[43mtitle\u001b[49m\n",
      "\u001b[0;31mNameError\u001b[0m: name 'title' is not defined"
     ]
    }
   ],
   "source": [
    "subjects = \"Math, biology, chemistry, programming\"\n",
    "split = subjects.split(\",\")\n",
    "stripped = [sub.strip() for sub in split]\n",
    "upper = [up.upper() for up in stripped]\n",
    "lower = [low.lower() for low in upper]\n",
    "\n",
    "print(split)\n",
    "print(stripped)\n",
    "print(upper)\n",
    "print(lower)\n",
    "\n",
    "title\n",
    "\n",
    "\n"
   ]
  },
  {
   "cell_type": "markdown",
   "metadata": {},
   "source": [
    "### regular expressions // regex"
   ]
  },
  {
   "cell_type": "code",
   "execution_count": 49,
   "metadata": {},
   "outputs": [
    {
     "name": "stdout",
     "output_type": "stream",
     "text": [
      "['katt', 'hatt']\n"
     ]
    }
   ],
   "source": [
    "import re\n",
    "\n",
    "text = \"Det var en gång en katt som tog på sig en hatt.\"\n",
    "match_list = re.findall(r\".att\", text)\n",
    "\n",
    "print(match_list)\n",
    "\n"
   ]
  },
  {
   "cell_type": "code",
   "execution_count": 55,
   "metadata": {},
   "outputs": [
    {
     "name": "stdout",
     "output_type": "stream",
     "text": [
      "YYYYMMDD-XX: ['19950516-2235', '99581212-3213', '19932235-3213']\n",
      "YYMMDD-XX: ['950516-2235', '581212-3213', '050524-1513', '932235-3213']\n",
      "['19950516-2235', '199581212-3213', '050524-1513', '19932235-3213']\n"
     ]
    }
   ],
   "source": [
    "person_numbers = \"Ida: 19950516-2235, Berit: 199581212-3213, Ada: 050524-1513, FEL: 19932235-3213\"\n",
    "match_long = re.findall(r\"\\d{8}-\\d{4}\", person_numbers)\n",
    "print(f\"YYYYMMDD-XX: {match_long}\")\n",
    "\n",
    "match_short = re.findall(r\"\\d{6}-\\d{4}\", person_numbers)\n",
    "print(f\"YYMMDD-XX: {match_short}\")\n",
    "\n",
    "my_match = re.findall(r\"\\d+-\\d+\", person_numbers)\n",
    "print(my_match)"
   ]
  }
 ],
 "metadata": {
  "kernelspec": {
   "display_name": "Python 3",
   "language": "python",
   "name": "python3"
  },
  "language_info": {
   "codemirror_mode": {
    "name": "ipython",
    "version": 3
   },
   "file_extension": ".py",
   "mimetype": "text/x-python",
   "name": "python",
   "nbconvert_exporter": "python",
   "pygments_lexer": "ipython3",
   "version": "3.12.2"
  }
 },
 "nbformat": 4,
 "nbformat_minor": 2
}
