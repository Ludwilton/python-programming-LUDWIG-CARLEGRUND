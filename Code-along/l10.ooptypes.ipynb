{
 "cells": [
  {
   "cell_type": "code",
   "execution_count": 30,
   "metadata": {},
   "outputs": [
    {
     "name": "stdout",
     "output_type": "stream",
     "text": [
      "<class '__main__.Student'>\n",
      "True\n",
      "True\n",
      "0x1071ed130\n",
      "0x1071ecec0\n"
     ]
    }
   ],
   "source": [
    "class Student:\n",
    "    pass\n",
    "\n",
    "s1 = Student()\n",
    "print(type(s1))\n",
    "\n",
    "s2 = Student()\n",
    "\n",
    "print(isinstance(s1, Student))\n",
    "print(isinstance(s2, Student))\n",
    "\n",
    "print(hex(id(s1)))\n",
    "print(hex(id(s2)))\n",
    "\n",
    "s1"
   ]
  },
  {
   "cell_type": "code",
   "execution_count": 33,
   "metadata": {},
   "outputs": [
    {
     "name": "stdout",
     "output_type": "stream",
     "text": [
      "Ada\n",
      "{'name': 'Ada'}\n",
      "{'__module__': '__main__', '__dict__': <attribute '__dict__' of 'Student' objects>, '__weakref__': <attribute '__weakref__' of 'Student' objects>, '__doc__': None}\n",
      "'Student' object has no attribute 'name'\n"
     ]
    }
   ],
   "source": [
    "s1.name = \"Ada\"\n",
    "print(s1.name)\n",
    "\n",
    "print(s1.__dict__)\n",
    "print(Student.__dict__)\n",
    "\n",
    "try:\n",
    "    print(s2.name)\n",
    "except AttributeError as r:\n",
    "    print(r)"
   ]
  },
  {
   "cell_type": "code",
   "execution_count": 39,
   "metadata": {},
   "outputs": [
    {
     "name": "stdout",
     "output_type": "stream",
     "text": [
      "<function Student.study at 0x1078f2660>\n",
      "Ada\n",
      "<bound method Student.study of <__main__.Student object at 0x107487740>>\n",
      "Ada is studying\n"
     ]
    }
   ],
   "source": [
    "class Student:\n",
    "    def __init__(self, name) -> None:\n",
    "        self.name = name\n",
    "\n",
    "    def study(self):\n",
    "        return f\"{self.name} is studying\"\n",
    "    \n",
    "print(Student.study)\n",
    "\n",
    "s1 = Student(\"Ada\")\n",
    "\n",
    "print(s1.name)\n",
    "print(s1.study)\n",
    "print(s1.study())"
   ]
  },
  {
   "cell_type": "code",
   "execution_count": 59,
   "metadata": {},
   "outputs": [
    {
     "name": "stdout",
     "output_type": "stream",
     "text": [
      "<class '__main__.Rabbit'>\n",
      "<class '__main__.Rabbit'>\n"
     ]
    },
    {
     "data": {
      "text/plain": [
       "({'name': 'Bella'}, {'name': 'Skutt'})"
      ]
     },
     "execution_count": 59,
     "metadata": {},
     "output_type": "execute_result"
    }
   ],
   "source": [
    "class Rabbit:\n",
    "    eyes = 2\n",
    "    nose = 1\n",
    "    has_tail = True\n",
    "    def __init__(self, name):\n",
    "        self.name = name\n",
    "\n",
    "\n",
    "    def binky(self):\n",
    "        print(f\"{self.name} är glad och skuttar\")\n",
    "\n",
    "rabbit1 = Rabbit(\"Bella\")\n",
    "rabbit2 = Rabbit(\"Skutt\")\n",
    "\n",
    "print(type(rabbit1))\n",
    "print(type(rabbit2))\n",
    "\n",
    "rabbit1.__dict__, rabbit2.__dict__\n"
   ]
  },
  {
   "cell_type": "code",
   "execution_count": 57,
   "metadata": {},
   "outputs": [
    {
     "name": "stdout",
     "output_type": "stream",
     "text": [
      "type object 'Rabbit' has no attribute 'name'\n",
      "1\n",
      "2\n",
      "{'name': 'Bella', 'eyes': 1}\n"
     ]
    }
   ],
   "source": [
    "try:\n",
    "    print(Rabbit.name)\n",
    "except AttributeError as err:\n",
    "    print(err)\n",
    "\n",
    "Rabbit(\"MrSnuggles\").name\n",
    "\n",
    "rabbit1.eyes = 1\n",
    "print(rabbit1.eyes)\n",
    "print(rabbit2.eyes)\n",
    "\n",
    "print(rabbit1.__dict__)"
   ]
  },
  {
   "cell_type": "code",
   "execution_count": 16,
   "metadata": {},
   "outputs": [
    {
     "name": "stdout",
     "output_type": "stream",
     "text": [
      "got value\n",
      "10\n",
      "got value\n",
      "5\n"
     ]
    }
   ],
   "source": [
    "class Square:\n",
    "    \n",
    "    def __init__(self, side) -> None:\n",
    "        self._side = side\n",
    "\n",
    "\n",
    "    def get_side(self):\n",
    "        print(\"got value\")\n",
    "        return self._side\n",
    "    \n",
    "\n",
    "    def set_side(self, value):\n",
    "        if not isinstance(value, (int, float)) or value < 0:\n",
    "            raise ValueError(f\"value must be non-negative int or float, not {type(value).__name__}\")\n",
    "        self._side = value\n",
    "    \n",
    "    side = property(fget=get_side, fset=set_side)\n",
    "\n",
    "square = Square(10)\n",
    "print(square.side)\n",
    "try:\n",
    "    square._side = 5\n",
    "except ValueError as err:\n",
    "    print(err)\n",
    "print(square.side)"
   ]
  },
  {
   "cell_type": "code",
   "execution_count": 19,
   "metadata": {},
   "outputs": [
    {
     "name": "stdout",
     "output_type": "stream",
     "text": [
      "20\n"
     ]
    }
   ],
   "source": [
    "class Square:\n",
    "    def __init__(self, side) -> None:\n",
    "        self.side = side\n",
    "\n",
    "    @property\n",
    "    def side(self):\n",
    "        return self._side\n",
    "\n",
    "    @side.setter\n",
    "    def side(self, value):\n",
    "        if not isinstance(value, (int,float)) or value < 0:\n",
    "            raise ValueError(f\"value must be non-negative int or float.\")\n",
    "        self._side = value\n",
    "\n",
    "    @property\n",
    "    def area(self):\n",
    "        return self.side**2\n",
    "\n",
    "square = Square(10)\n",
    "square.side(20)\n",
    "print(square.side)"
   ]
  }
 ],
 "metadata": {
  "kernelspec": {
   "display_name": "Python 3",
   "language": "python",
   "name": "python3"
  },
  "language_info": {
   "codemirror_mode": {
    "name": "ipython",
    "version": 3
   },
   "file_extension": ".py",
   "mimetype": "text/x-python",
   "name": "python",
   "nbconvert_exporter": "python",
   "pygments_lexer": "ipython3",
   "version": "3.12.2"
  }
 },
 "nbformat": 4,
 "nbformat_minor": 2
}
