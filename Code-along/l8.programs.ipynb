{
 "cells": [
  {
   "cell_type": "markdown",
   "metadata": {},
   "source": [
    "## logic\n",
    "\n",
    "### boolean logic:\n",
    "only two values: 0, 1 ( False, True)\n",
    "\n",
    "valuation function\n",
    "    - determines the true value of a boolean expression\n",
    "\n",
    "operators:\n",
    "<, >\n",
    "\n",
    "a  AND  b\n",
    "\n",
    "a  OR   b\n",
    "\n",
    "a  XOR  b\n",
    "\n",
    "a  IMPL b\n",
    "\n",
    "a  EQ   b\n",
    "\n",
    "\n",
    "| op | a | b | output |\n",
    "| --- | -- | --|---|\n",
    "|AND | F | F | FALSE\n",
    "|AND | T | F | FALSE\n",
    "|AND | f | T | FALSE\n",
    "|AND | T | T | TRUE\n",
    "\n",
    "### linear logic\n",
    "\n",
    "### fuzzy logic\n",
    "between 0,1; amount something is true"
   ]
  },
  {
   "cell_type": "markdown",
   "metadata": {},
   "source": [
    "## Symbols are data\n",
    "\n",
    "| 1 | 0 | 1 |\n",
    "\n",
    "$1 * 2^0 + 0*2^1 + 1*2^2 = 5$\n",
    "\n",
    "65 (decimal):\n",
    "    ASCII (65): 'A'\n"
   ]
  },
  {
   "cell_type": "markdown",
   "metadata": {},
   "source": [
    "unlike mathematics, in programming, functions have _contexts_\n"
   ]
  }
 ],
 "metadata": {
  "language_info": {
   "name": "python"
  }
 },
 "nbformat": 4,
 "nbformat_minor": 2
}
