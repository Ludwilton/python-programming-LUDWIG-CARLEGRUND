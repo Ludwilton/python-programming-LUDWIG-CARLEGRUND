{
 "cells": [
  {
   "cell_type": "markdown",
   "metadata": {},
   "source": [
    "## Variables och konstanter\n",
    "variabler är bitar av minne som innehåller tal. Vi tolkar talen beroende på vilken _typ_ variabeln har.\n",
    "man kan skriva ut typerna hur man vill, sk typehints\n",
    "\n",
    "\n",
    "konstanter är \"immutable\", dvs kan inte förändras efter att de skapats.\n"
   ]
  },
  {
   "cell_type": "code",
   "execution_count": 50,
   "metadata": {},
   "outputs": [],
   "source": [
    "# type-hints are optional\n",
    "a = 43\n",
    "b: str = \"hejsan\"\n",
    "c: list = [2,3,4]\n",
    "d: list = [\"2\", 3, 2.0]\n",
    "e: int = 45\n",
    "kvs: dict = {\"Ada\": 1, \"lovelock\": 2, \"einstein\": 3}\n",
    "sm: set = {1,2,3,4}\n",
    "sm2: set = {\"a\",\"b\",\"c\",\"d\"}\n",
    "sm3: set = {\"a\", 1}\n",
    "const = (1,2)"
   ]
  },
  {
   "cell_type": "markdown",
   "metadata": {},
   "source": [
    "## Funktioner\n"
   ]
  },
  {
   "cell_type": "code",
   "execution_count": 51,
   "metadata": {},
   "outputs": [],
   "source": [
    "# pure function, no side-effects, only uses input parameters and predefined operations\n",
    "def my_function(a, b, c=1) -> int:\n",
    "    '''\n",
    "    here there should be usage text for this function\n",
    "    '''\n",
    "    return a * c + b\n",
    "\n",
    "def my_proc():\n",
    "    with open(\"dummyfile\") as file:\n",
    "        return file.readlines()\n",
    "    \n",
    "\n",
    "import numpy as np\n",
    "radius = 3.0\n",
    "area = 2 * np.pi * np.power(radius, 2)"
   ]
  },
  {
   "cell_type": "markdown",
   "metadata": {},
   "source": [
    "python använder (per rekommendation)\n",
    "\n",
    "CamelCase\n",
    "\n",
    "this_is_snake_case\n",
    "\n",
    "GLOBALVARIABLES"
   ]
  },
  {
   "cell_type": "markdown",
   "metadata": {},
   "source": [
    "## Listor"
   ]
  },
  {
   "cell_type": "code",
   "execution_count": 52,
   "metadata": {},
   "outputs": [
    {
     "name": "stdout",
     "output_type": "stream",
     "text": [
      "[1, 2, 3, 4, 5, 6, 7]\n",
      "[1, 2, 3, 4, 5, 6, 7, 8, 9, 10]\n",
      "DETTA\n"
     ]
    },
    {
     "data": {
      "text/plain": [
       "['help']"
      ]
     },
     "execution_count": 52,
     "metadata": {},
     "output_type": "execute_result"
    }
   ],
   "source": [
    "# Indexering\n",
    "A = [0,1,2,3,4,5,6,7,8,9,10]\n",
    "S = \"DETTA ÄR EN STRÄNG\" #strings är list av char\n",
    "S[2]\n",
    " # index slicing\n",
    "print(A[1:8])\n",
    "print(A[1:])\n",
    "print(S[:5])\n",
    "\n",
    "list_of_lists = [[\"help\"], [2,3,4,5]]\n",
    "list_of_lists[0]\n",
    "\n"
   ]
  },
  {
   "cell_type": "code",
   "execution_count": 53,
   "metadata": {},
   "outputs": [
    {
     "name": "stdout",
     "output_type": "stream",
     "text": [
      "[1, 9, 25, 49, 81]\n",
      "[0, 4, 16, 36, 64]\n",
      "[0, 0, 2, 6, 4, 12, 6, 18, 8, 24] [0, 0, 2, 6, 4, 12, 6, 18, 8, 24]\n",
      "[1, 4, 9, 16]\n",
      "[1, 4, 9, 16]\n"
     ]
    }
   ],
   "source": [
    "# list comprehension\n",
    "\n",
    "sqrs = [i**2 for i in range(10) if i % 2 == 1]\n",
    "sqr_list = []\n",
    "for i in range(10):\n",
    "    if i % 2 == 0:\n",
    "        sqr_list.append(i**2)\n",
    "\n",
    "print(sqrs)\n",
    "print(sqr_list)\n",
    "\n",
    "srqs2 = [i*j for i in range(10) for j in range(5) if i % 2 == 0 and j % 2 != 0]\n",
    "sqr_list2 = []\n",
    "\n",
    "for i in range(10):\n",
    "    for j in range(5):\n",
    "        if i % 2 == 0 and j % 2 != 0:\n",
    "            sqr_list2.append(i*j)\n",
    "\n",
    "print(srqs2,sqr_list2)\n",
    "\n",
    "# maps\n",
    "\n",
    "def f(x):\n",
    "    return x**2\n",
    "\n",
    "print(list(map(f, [1,2,3,4])))\n",
    "# equals\n",
    "print([f(i) for i in [1,2,3,4]])\n"
   ]
  },
  {
   "cell_type": "code",
   "execution_count": 62,
   "metadata": {},
   "outputs": [
    {
     "name": "stdout",
     "output_type": "stream",
     "text": [
      "a\n",
      "b\n",
      "c\n",
      "1\n",
      "2\n",
      "3\n",
      "a 1\n",
      "b 2\n",
      "c 3\n",
      "a 1\n",
      "b 2\n",
      "c 3\n",
      "{'byron': 'ada', 'gödel': 'kurt', 'turing': 'alan', 'Church': 'alonzo'}\n",
      "{'byron': 'ada', 'gödel': 'kurt', 'turing': 'alan  ', 'Church': ' alonzo'}\n"
     ]
    }
   ],
   "source": [
    "kv = {\"a\": 1, \"b\":2, \"c\": 3}\n",
    "kv[\"a\"]\n",
    "\n",
    "for k in kv:\n",
    "    print(k)\n",
    "\n",
    "for v in kv.values():\n",
    "    print(v)\n",
    "\n",
    "for k, v in kv.items():\n",
    "    print(k,v)\n",
    "\n",
    "for k, v in kv.items():\n",
    "    print(k,v)\n",
    "\n",
    "\n",
    "A = [\"ada\", \"kurt\", \"alan  \", \" alonzo\"]\n",
    "B = [\"byron\", \"gödel\", \"turing\", \"Church\"]\n",
    "\n",
    "computer_scientists = {efternamn:fornamn.strip() for fornamn, efternamn in zip(A,B)} # om man gör t.ex strip\n",
    "print(computer_scientists)\n",
    "print(dict(zip(B,A))) # annars samma"
   ]
  }
 ],
 "metadata": {
  "kernelspec": {
   "display_name": "Python 3",
   "language": "python",
   "name": "python3"
  },
  "language_info": {
   "codemirror_mode": {
    "name": "ipython",
    "version": 3
   },
   "file_extension": ".py",
   "mimetype": "text/x-python",
   "name": "python",
   "nbconvert_exporter": "python",
   "pygments_lexer": "ipython3",
   "version": "3.12.2"
  }
 },
 "nbformat": 4,
 "nbformat_minor": 2
}
