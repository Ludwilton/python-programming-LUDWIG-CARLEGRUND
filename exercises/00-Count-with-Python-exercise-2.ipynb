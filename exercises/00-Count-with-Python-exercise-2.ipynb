{
 "cells": [
  {
   "cell_type": "markdown",
   "metadata": {},
   "source": [
    "\n",
    "<a href=\"https://colab.research.google.com/github/pr0fez/AI24-Programmering/blob/master/Exercises/00-Count-with-Python-exercise.ipynb\" target=\"_parent\"><img align=\"left\" src=\"https://colab.research.google.com/assets/colab-badge.svg\" alt=\"Open In Colab\"/></a> &nbsp; to see hints and answers."
   ]
  },
  {
   "cell_type": "markdown",
   "metadata": {},
   "source": [
    "# Count with Python\n",
    "\n",
    "---\n",
    "These are introductory exercises in Python for fundamental mathematics. It is important to both know mathematics as well as Python in order to understand machine learning concepts. Also a focus here is to use Python as a tool for solving mathematical problems.\n",
    "\n",
    "<p class = \"alert alert-info\" role=\"alert\"><b>Remember</b> to use <b>variables</b> in your computations </p>\n",
    "\n",
    "<p class = \"alert alert-info\" role=\"alert\"><b>Remember</b> to format your answers in a neat way using <b>f-strings</b>\n",
    "\n",
    "The number of stars (\\*), (\\*\\*), (\\*\\*\\*) denotes the difficulty level of the task\n",
    "\n",
    "---"
   ]
  },
  {
   "cell_type": "markdown",
   "metadata": {},
   "source": [
    "## 1. Pythagorean theorem (*)\n",
    "\n",
    "&nbsp; a) &nbsp;  A right angled triangle has the catheti: a = 3 and b = 4 length units. Compute the <b>hypothenuse</b> of the triangle. (*) \n",
    "  \n",
    "&nbsp; b) &nbsp;  A right angled triangle has hypothenuse c = 7.0 and a cathetus a = 5.0 length units. Compute the other cathetus and round to one decimal. (*)\n",
    "\n",
    "<img align=\"left\" src=\"../assets/right-angle-triangle.png\" width=\"200\"/>"
   ]
  },
  {
   "cell_type": "markdown",
   "metadata": {},
   "source": [
    "\n",
    "<details>\n",
    "\n",
    "<summary>Hint</summary>\n",
    "\n",
    "[Video lecture][pythagoras_video] (swedish)\n",
    "\n",
    "[pythagoras_video]: https://www.youtube.com/watch?v=3iivEnKEJ88\n",
    "\n",
    "To do square root in Python\n",
    "```python \n",
    "import math\n",
    "math.sqrt()\n",
    "```\n",
    "\n",
    "</details>\n",
    "<br>\n",
    "<details>\n",
    "\n",
    "<summary>Answer</summary>\n",
    "a) \n",
    "\n",
    "```\n",
    "The hypothenuse is 5 length units\n",
    "```\n",
    "\n",
    "b)\n",
    "\n",
    "```\n",
    "The other cathetus is 4.9 length units\n",
    "```\n",
    "\n",
    "</details>"
   ]
  },
  {
   "cell_type": "code",
   "execution_count": 3,
   "metadata": {},
   "outputs": [
    {
     "name": "stdout",
     "output_type": "stream",
     "text": [
      "5.0\n",
      "4.90\n"
     ]
    }
   ],
   "source": [
    "import numpy as np\n",
    "\n",
    "\n",
    "a = 3\n",
    "b = 4\n",
    "c = np.power(a, 2) + np.power(b, 2)\n",
    "c = np.sqrt(c)\n",
    "print(c)\n",
    "\n",
    "c = 7.0\n",
    "a = 5.0\n",
    "b = np.power(c, 2) - np.power(a, 2)\n",
    "b = np.sqrt(b)\n",
    "print(f\"{b:.2f}\")\n",
    "\n",
    "\n",
    "\n"
   ]
  },
  {
   "cell_type": "markdown",
   "metadata": {},
   "source": [
    "# Symbolic divisiion using Euler's method\n",
    "\n",
    "Here we are going implement long division symbolically, mimicking the process a human would use to solve a fraction. \n",
    "\n",
    "a) Given two numbers, say 22 and 7, we want to calculate $\\frac{22}{7}$. We will represent a number with several digits as a list of single digits. Use strings: \n"
   ]
  },
  {
   "cell_type": "code",
   "execution_count": 36,
   "metadata": {},
   "outputs": [
    {
     "ename": "TypeError",
     "evalue": "unsupported operand type(s) for //: 'list' and 'list'",
     "output_type": "error",
     "traceback": [
      "\u001b[0;31m---------------------------------------------------------------------------\u001b[0m",
      "\u001b[0;31mTypeError\u001b[0m                                 Traceback (most recent call last)",
      "Cell \u001b[0;32mIn[36], line 7\u001b[0m\n\u001b[1;32m      5\u001b[0m n_a \u001b[38;5;241m=\u001b[39m \u001b[38;5;28mlist\u001b[39m(a_str)\n\u001b[1;32m      6\u001b[0m n_b \u001b[38;5;241m=\u001b[39m \u001b[38;5;28mlist\u001b[39m(b_str)\n\u001b[0;32m----> 7\u001b[0m \u001b[43mn_a\u001b[49m\u001b[38;5;241;43m/\u001b[39;49m\u001b[38;5;241;43m/\u001b[39;49m\u001b[43mn_b\u001b[49m\n",
      "\u001b[0;31mTypeError\u001b[0m: unsupported operand type(s) for //: 'list' and 'list'"
     ]
    }
   ],
   "source": [
    "\n",
    "a = 22\n",
    "b = 7\n",
    "a_str = repr(a)\n",
    "b_str = repr(b)\n",
    "n_a = list(a_str)\n",
    "n_b = list(b_str)\n",
    "n_a//n_b"
   ]
  },
  {
   "cell_type": "markdown",
   "metadata": {},
   "source": [
    "-----\n",
    "## 2. Classification accuracy (*)\n",
    "\n",
    "A machine learning algorithm has been trained to predict whether or not it would rain the next day. Out of 365 predictions, it got 300 correct, compute the accuracy of this model."
   ]
  },
  {
   "cell_type": "code",
   "execution_count": 44,
   "metadata": {},
   "outputs": [
    {
     "name": "stdout",
     "output_type": "stream",
     "text": [
      "the algorithm is 82.2 % correct\n"
     ]
    }
   ],
   "source": [
    "total = 365\n",
    "predicted = 300\n",
    "correct_percentage = predicted / total * 100\n",
    "print(f\"the algorithm is {correct_percentage:.1f} % correct\")\n"
   ]
  },
  {
   "cell_type": "markdown",
   "metadata": {},
   "source": [
    "---\n",
    "## 3. Classification accuracy (*)\n",
    "A machine learning model has been trained to detect fire. Here is the result of its predictions: \n",
    "\n",
    "<table align=\"left\">\n",
    "<tbody>\n",
    "  <tr>\n",
    "    <td>True Positive (TP)\n",
    "      <ul>\n",
    "        <li>Reality: fire</li>\n",
    "        <li>Predicted: fire</li>\n",
    "        <li>Number of TP: 2</li>\n",
    "      </ul>\n",
    "    </td>\n",
    "    <td>False Positive (FP)\n",
    "      <ul>\n",
    "        <li>Reality: no fire</li>\n",
    "        <li>Predicted: fire</li>\n",
    "        <li>Number of FP: 2</li>\n",
    "      </ul>\n",
    "    </td>\n",
    "  </tr>\n",
    "\n",
    "  <tr>\n",
    "    <td>False Negative (FN)\n",
    "      <ul>\n",
    "        <li>Reality: fire</li>\n",
    "        <li>Predicted: no fire</li>\n",
    "        <li>Number of FN: 11</li>\n",
    "      </ul>\n",
    "    </td>\n",
    "    <td>True Negative (TN)\n",
    "      <ul>\n",
    "        <li>Reality: no fire</li>\n",
    "        <li>Predicted: no fire</li>\n",
    "        <li>Number of TN: 985</li>\n",
    "      </ul>\n",
    "    </td>\n",
    "  </tr>\n",
    "</tbody>\n",
    "</table>"
   ]
  },
  {
   "cell_type": "markdown",
   "metadata": {},
   "source": [
    "Calculated the accuracy using the following formula:\n",
    "\n",
    "$\\text{accuracy} = \\frac{TP+TN}{TP+TN+FP+FN}$\n",
    "\n",
    "Is this a good model?\n",
    "\n",
    "<details> \n",
    "\n",
    "<summary>Hint </summary>\n",
    "\n",
    "Try to understand what it means for the actual user with each category\n",
    "\n",
    "</details>\n",
    "<br>\n",
    "<details> \n",
    "\n",
    "<summary>Answer </summary>\n",
    "\n",
    "```\n",
    "The accuracy of this model is 0.987.\n",
    "```\n",
    "\n",
    "</details>"
   ]
  },
  {
   "cell_type": "code",
   "execution_count": 46,
   "metadata": {},
   "outputs": [
    {
     "name": "stdout",
     "output_type": "stream",
     "text": [
      "0.987\n"
     ]
    }
   ],
   "source": [
    "tp = 2\n",
    "fp = 2\n",
    "fn = 11\n",
    "tn = 985\n",
    "accuracy = (tp + tn) / (tp+tn+fp+fn)\n",
    "print(accuracy)"
   ]
  },
  {
   "cell_type": "markdown",
   "metadata": {},
   "source": [
    "--- \n",
    "## 4. Line (*)\n",
    "Compute the slope $k$ and the constant term $m$ of this line using the points $A: (4,4)$ and $B: (0,1)$.  \n",
    "\n",
    "<img align=\"left\" src=\"../assets/line.png\" width=\"200\"/>"
   ]
  },
  {
   "cell_type": "markdown",
   "metadata": {},
   "source": [
    "<details> \n",
    "\n",
    "<summary>Hint </summary>\n",
    "\n",
    "$k = \\frac{\\Delta y}{\\Delta x} = \\frac{y_2 - y_1}{x_2 - x_1}$\n",
    "\n",
    "Either plug in one point into $y = kx + m$ and solve for $m$ or read the intersection with y-axis in the graph.\n",
    "\n",
    "[Video lecture][video_line] (Swedish)\n",
    "\n",
    "[video_line]: https://www.youtube.com/watch?v=9Buuq6rkaJ0\n",
    "\n",
    "</details>\n",
    "<br>\n",
    "<details> \n",
    "\n",
    "<summary>Solution </summary>\n",
    "\n",
    "```\n",
    "k = 0.75, m = 1, so the equation for the slope is y = 0.75x + 1\n",
    "```\n",
    "\n",
    "</details>\n"
   ]
  },
  {
   "cell_type": "code",
   "execution_count": 47,
   "metadata": {},
   "outputs": [
    {
     "name": "stdout",
     "output_type": "stream",
     "text": [
      "0.75\n"
     ]
    }
   ],
   "source": [
    "a = [4, 4]\n",
    "b = [0, 1]\n",
    "\n",
    "k = (b[1] - a[1]) / (b[0] - a[0]) \n",
    "print(k)\n",
    "\n",
    "# y = kx + 1\n"
   ]
  },
  {
   "cell_type": "markdown",
   "metadata": {},
   "source": [
    "---\n",
    "## 5. Euclidean distance (*)\n",
    "\n",
    "The Euclideam distance between the points $P_1$ and $P_2$ is the length of a line between them. Let $P_1: (3,5)$ and $P_2: (-2,4)$ and compute the distance between them."
   ]
  },
  {
   "cell_type": "markdown",
   "metadata": {},
   "source": [
    "<details> \n",
    "\n",
    "<summary>Hint </summary>\n",
    "The formula is: \n",
    "\n",
    "$\\text{distance} = \\sqrt{(x_2-x_1)^2 +(y_2-y_1)^2}$\n",
    "\n",
    "[Video lecture][video_distance] (Swedish)\n",
    "\n",
    "[video_distance]: https://www.youtube.com/watch?v=DrTsKgHg7ng\n",
    "\n",
    "</details>\n",
    "<br>\n",
    "<details> \n",
    "\n",
    "<summary>Answer </summary>\n",
    "\n",
    "```\n",
    "The distance is around 5.1 length units.\n",
    "```\n",
    "\n",
    "</details>"
   ]
  },
  {
   "cell_type": "code",
   "execution_count": 52,
   "metadata": {},
   "outputs": [
    {
     "name": "stdout",
     "output_type": "stream",
     "text": [
      "5.0990195135927845\n"
     ]
    }
   ],
   "source": [
    "p1 = [3, 5]\n",
    "p2 = [-2, 4]\n",
    "\n",
    "    \n",
    "v1 = np.power((p2[0]-p1[0]), 2)\n",
    "v2 = np.power((p2[1]-p1[1]), 2)\n",
    "distancebetween = np.sqrt(v1 + v2)\n",
    "print(distancebetween)"
   ]
  },
  {
   "cell_type": "markdown",
   "metadata": {},
   "source": [
    "---\n",
    "## 6. Euclidean distance in 3D (**)\n",
    "\n",
    "Calculate the distance between the points $P_1: (2,1,4)$ and $P_2: (3,1,0)$ \n",
    "\n",
    "<details> \n",
    "\n",
    "<summary>Hint </summary>\n",
    "\n",
    "Let $p =(p_1, p_2, p_3)$ and $q = (q_1, q_2, q_3) \\Rightarrow$   \n",
    "\n",
    "$d(p,q) = \\sqrt{(p_1-q_1)^2 +(p_2-q_2)^2 +(p_3-q_3)^2 }$, where $d(p,q)$ is the Euclidean distance between $p$ and $q$\n",
    "\n",
    "</details>\n",
    "<br>\n",
    "<details> \n",
    "\n",
    "<summary>Answer </summary>\n",
    "\n",
    "```\n",
    "The distance is around 4.12 l.u.\n",
    "```\n",
    "\n",
    "</details>"
   ]
  },
  {
   "cell_type": "code",
   "execution_count": 53,
   "metadata": {},
   "outputs": [
    {
     "name": "stdout",
     "output_type": "stream",
     "text": [
      "4.123105625617661\n"
     ]
    }
   ],
   "source": [
    "p = [2, 1, 4]\n",
    "q = [3, 1, 0]\n",
    "\n",
    "v1 = np.power((p[0] - q[0]), 2)\n",
    "v2 = np.power((p[1] - q[1]), 2)\n",
    "v3 = np.power((p[2] - q[2]), 2)\n",
    "\n",
    "d = np.sqrt(v1+v2+v3)\n",
    "print(d)"
   ]
  },
  {
   "cell_type": "markdown",
   "metadata": {},
   "source": [
    "---\n",
    "\n",
    "pr0fez Giang\n",
    "\n",
    "[LinkedIn][linkedIn_pr0fez]\n",
    "\n",
    "[GitHub portfolio][github_portfolio]\n",
    "\n",
    "[linkedIn_pr0fez]: https://www.linkedin.com/in/pr0fezgiang/\n",
    "[github_portfolio]: https://github.com/pr0fez/Portfolio-pr0fez-Giang\n",
    "\n",
    "---"
   ]
  }
 ],
 "metadata": {
  "kernelspec": {
   "display_name": "Python 3.9.6 64-bit",
   "language": "python",
   "name": "python3"
  },
  "language_info": {
   "codemirror_mode": {
    "name": "ipython",
    "version": 3
   },
   "file_extension": ".py",
   "mimetype": "text/x-python",
   "name": "python",
   "nbconvert_exporter": "python",
   "pygments_lexer": "ipython3",
   "version": "3.12.2"
  },
  "orig_nbformat": 4,
  "vscode": {
   "interpreter": {
    "hash": "0da836a34428266995a795f1e1e27b816fa1c02f148d9728b3fbbbc5459afca6"
   }
  }
 },
 "nbformat": 4,
 "nbformat_minor": 2
}
