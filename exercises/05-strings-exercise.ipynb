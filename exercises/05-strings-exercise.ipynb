{
 "cells": [
  {
   "cell_type": "markdown",
   "metadata": {},
   "source": [
    "<a href=\"https://colab.research.google.com/github/pr0fez/AI24-Programmering/blob/master/Exercises/05-strings-exercise.ipynb\" target=\"_parent\"><img align=\"left\" src=\"https://colab.research.google.com/assets/colab-badge.svg\" alt=\"Open In Colab\"/></a> &nbsp; to see hints and answers."
   ]
  },
  {
   "cell_type": "markdown",
   "metadata": {},
   "source": [
    "# strings exercises\n",
    "\n",
    "---\n",
    "These are introductory exercises in Python with focus in **strings**.\n",
    "\n",
    "<p class = \"alert alert-info\" role=\"alert\"><b>Remember</b> to use <b>descriptive variable names</b> in order to get readable code </p>\n",
    "\n",
    "<p class = \"alert alert-info\" role=\"alert\"><b>Remember</b> to format your answers in a neat way using <b>f-strings</b>\n",
    "\n",
    "<p class = \"alert alert-info\" role=\"alert\"><b>Remember</b> to format your input questions in a pedagogical way to guide the user\n",
    "\n",
    "The number of stars (\\*), (\\*\\*), (\\*\\*\\*) denotes the difficulty level of the task\n",
    "\n",
    "---"
   ]
  },
  {
   "cell_type": "markdown",
   "metadata": {},
   "source": [
    "## 1. Counting letters (*)\n",
    "\n",
    "Let the user input a word: \n",
    "\n",
    "&nbsp; a) &nbsp; print out the number of letters in the word. (*) \n",
    "  \n",
    "&nbsp; b) &nbsp; print out the number of **uppercase** and **lowercase** letters of the word (*)   \n"
   ]
  },
  {
   "cell_type": "code",
   "execution_count": 21,
   "metadata": {},
   "outputs": [
    {
     "name": "stdout",
     "output_type": "stream",
     "text": [
      "input string: Tilda Hellsten\n",
      "number of letters: 14\n",
      "amount of lower case letters: 11 ('i', 'l', 'd', 'a', 'e', 'l', 'l', 's', 't', 'e', 'n')\n",
      "amount of uppercase letters: 2 ('T', 'H')\n"
     ]
    }
   ],
   "source": [
    "user_input = str(input(\"Enter a word: \"))\n",
    "\n",
    "def number_of_letters(user_input):\n",
    "    amount = len(user_input)\n",
    "    return amount\n",
    "\n",
    "\n",
    "def case_count(user_input):\n",
    "    lower_amount = 0\n",
    "    upper_amount = 0\n",
    "    upper_chars = []\n",
    "    lower_chars = []\n",
    "    for char in user_input:\n",
    "        if char.isupper():\n",
    "            upper_amount += 1\n",
    "            upper_chars.append(char)\n",
    "        elif char.islower():\n",
    "            lower_amount += 1\n",
    "            lower_chars.append(char)\n",
    "    return f\"amount of lower case letters: {lower_amount} ({str(lower_chars).strip(\"[]\")})\\namount of uppercase letters: {upper_amount} ({str(upper_chars).strip(\"[]\")})\"\n",
    "\n",
    "\n",
    "\n",
    "print(f\"input string: {user_input}\")\n",
    "print(f\"number of letters: {number_of_letters(user_input)}\")\n",
    "print(case_count(user_input))"
   ]
  },
  {
   "cell_type": "markdown",
   "metadata": {},
   "source": [
    "---\n",
    "## 2. Counting words (*)\n",
    "\n",
    "Count the number of words in this sentence: \"A picture says more than a thousand words, a matematical formula says more than a thousand pictures.\" (*) \n",
    "\n",
    "<details>\n",
    "\n",
    "<summary>Answer</summary>\n",
    "\n",
    "```\n",
    "There are 17 words in that sentence\n",
    "```"
   ]
  },
  {
   "cell_type": "code",
   "execution_count": 22,
   "metadata": {},
   "outputs": [
    {
     "name": "stdout",
     "output_type": "stream",
     "text": [
      "17\n"
     ]
    }
   ],
   "source": [
    "text = \"A picture says more than a thousand words, a matematical formula says more than a thousand pictures.\"\n",
    "split_text = text.split()\n",
    "words = len(split_text)\n",
    "print(f\"there are {words} in the sentence.\")"
   ]
  },
  {
   "cell_type": "markdown",
   "metadata": {},
   "source": [
    "---\n",
    "## 3. Palindrome (*)\n",
    "\n",
    "A palindrome is a sequence of characters that is the same, when read forward as backwards (ignoring spaces). For example:\n",
    "- \"Anna\" is a palindrome\n",
    "- \"Ni talar bra latin\"\n",
    "- bjkjb \n",
    "\n",
    "Let the user input a sequence of characters and check if it is a palindrome. (*)"
   ]
  },
  {
   "cell_type": "code",
   "execution_count": 46,
   "metadata": {},
   "outputs": [
    {
     "name": "stdout",
     "output_type": "stream",
     "text": [
      "checking if 'Anna' is a palindrome\n",
      "Anna is a palindrome\n",
      "\n",
      "\n",
      "checking if 'Ni talar bra latin' is a palindrome\n",
      "Ni talar bra latin is a palindrome\n",
      "\n",
      "\n",
      "checking if 'bjkjb' is a palindrome\n",
      "bjkjb is a palindrome\n",
      "\n",
      "\n",
      "checking if 'NotAPalindrome' is a palindrome\n",
      "Ni talar bra latin is not a palindrome\n",
      "\n",
      "\n"
     ]
    }
   ],
   "source": [
    "text = [\"Anna\", \"Ni talar bra latin\", \"bjkjb\", \"NotAPalindrome\"]\n",
    "\n",
    "def palindrome(text):\n",
    "    reversed_text = text[::-1].replace(\" \", \"\").lower()\n",
    "    # print(reversed_text)\n",
    "    text = text.replace(\" \", \"\").lower()\n",
    "    # print(text)\n",
    "    if text == reversed_text:\n",
    "        return True\n",
    "    else:\n",
    "        return False\n",
    "\n",
    "\n",
    "for i in range(len(text)):\n",
    "    print(f\"Checking if '{text[i]}' is a palindrome\")\n",
    "    check = palindrome(text[i])\n",
    "    if check == True:\n",
    "        print(f\"{text[i]} is a palindrome\")\n",
    "    else:\n",
    "        print(f\"{text[1]} is not a palindrome\")\n",
    "    print(\"\\n\")\n"
   ]
  },
  {
   "cell_type": "markdown",
   "metadata": {},
   "source": [
    "---\n",
    "## 4. Vowels (**)\n",
    "\n",
    "Count the number of vowels in this sentence: \"Pure mathematics is, in its way, the poetry of logical ideas\"\n",
    "\n",
    "<details>\n",
    "\n",
    "<summary>Answer</summary>\n",
    "\n",
    "```\n",
    "\n",
    "There are 22 vowels in this sentence\n",
    "\n",
    "```\n",
    "</details>"
   ]
  },
  {
   "cell_type": "code",
   "execution_count": 51,
   "metadata": {},
   "outputs": [
    {
     "name": "stdout",
     "output_type": "stream",
     "text": [
      "22\n",
      "['u', 'e', 'a', 'e', 'a', 'i', 'i', 'i', 'i', 'a', 'y', 'e', 'o', 'e', 'y', 'o', 'o', 'i', 'a', 'i', 'e', 'a']\n"
     ]
    }
   ],
   "source": [
    "text = \"pure mathematics is, in its way, the poetry of logical ideas\"\n",
    "list_text = list(text)\n",
    "wovel_count = []\n",
    "wovels = [\"e\",\"y\",\"u\",\"i\",\"o\",\"a\",\"å\",\"ö\",\"ä\"]\n",
    "\n",
    "\n",
    "for c in list_text:\n",
    "    if c in wovels:\n",
    "        wovel_count.append(c)\n",
    "\n",
    "print(len(wovel_count))\n",
    "print(wovel_count)\n",
    "\n",
    "\n",
    "\n"
   ]
  },
  {
   "cell_type": "markdown",
   "metadata": {},
   "source": [
    "---\n",
    "## 5. Encryption (**)\n",
    "\n",
    "Let the user input a word and: \n",
    "\n",
    "&nbsp; a) &nbsp; encrypt the message by replacing each letter with the next letter. If the letter is in the end of the alphabet, use the first letter instead. \n",
    "\n",
    "e.g. in Swedish: \"höst\" $\\rightarrow$ \"iatu\"\n",
    "\n",
    "&nbsp; b) &nbsp; decrypt the message\n",
    "\n",
    "&nbsp; c) &nbsp; let the user choose either encryption or decryption."
   ]
  },
  {
   "cell_type": "code",
   "execution_count": 120,
   "metadata": {},
   "outputs": [
    {
     "name": "stdout",
     "output_type": "stream",
     "text": [
      "h\n"
     ]
    },
    {
     "ename": "UnboundLocalError",
     "evalue": "cannot access local variable 'char_index' where it is not associated with a value",
     "output_type": "error",
     "traceback": [
      "\u001b[0;31m---------------------------------------------------------------------------\u001b[0m",
      "\u001b[0;31mUnboundLocalError\u001b[0m                         Traceback (most recent call last)",
      "Cell \u001b[0;32mIn[120], line 27\u001b[0m\n\u001b[1;32m     23\u001b[0m \u001b[38;5;28;01mdef\u001b[39;00m \u001b[38;5;21mdecrypt\u001b[39m(text):\n\u001b[1;32m     24\u001b[0m     \u001b[38;5;28;01mpass\u001b[39;00m\n\u001b[0;32m---> 27\u001b[0m \u001b[38;5;28mprint\u001b[39m(\u001b[43mencrypt\u001b[49m\u001b[43m(\u001b[49m\u001b[43mmessage\u001b[49m\u001b[43m)\u001b[49m)\n",
      "Cell \u001b[0;32mIn[120], line 10\u001b[0m, in \u001b[0;36mencrypt\u001b[0;34m(message)\u001b[0m\n\u001b[1;32m      8\u001b[0m \u001b[38;5;28mprint\u001b[39m(c)\n\u001b[1;32m      9\u001b[0m \u001b[38;5;28;01mfor\u001b[39;00m l \u001b[38;5;129;01min\u001b[39;00m alphabet:\n\u001b[0;32m---> 10\u001b[0m     \u001b[43mchar_index\u001b[49m \u001b[38;5;241m+\u001b[39m\u001b[38;5;241m=\u001b[39m \u001b[38;5;241m1\u001b[39m\n\u001b[1;32m     11\u001b[0m     \u001b[38;5;28;01mif\u001b[39;00m c \u001b[38;5;241m==\u001b[39m l:\n\u001b[1;32m     12\u001b[0m         \u001b[38;5;28mprint\u001b[39m(alphabet[char_index])\n",
      "\u001b[0;31mUnboundLocalError\u001b[0m: cannot access local variable 'char_index' where it is not associated with a value"
     ]
    }
   ],
   "source": [
    "message = \"h\"\n",
    "alphabet = [\"a\", \"b\", \"c\", \"d\", \"e\", \"f\", \"g\", \"h\", \"i\", \"j\", \"k\", \"l\", \"m\", \"n\", \"o\", \"p\", \"q\", \"r\", \"s\", \"t\", \"u\", \"v\", \"w\", \"x\", \"y\", \"z\"]\n",
    "char_index = None\n",
    "def encrypt(message):\n",
    "    encrypted_message = []\n",
    "    message = list(message)\n",
    "    for c in message:\n",
    "        print(c)\n",
    "        for l in alphabet:\n",
    "            char_index += 1\n",
    "            if c == l:\n",
    "                print(alphabet[char_index])\n",
    "                \n",
    "\n",
    "                \n",
    "\n",
    "\n",
    "\n",
    "\n",
    "\n",
    "    return encrypted_message\n",
    "\n",
    "def decrypt(text):\n",
    "    pass\n",
    "\n",
    "\n",
    "print(encrypt(message))\n"
   ]
  },
  {
   "cell_type": "markdown",
   "metadata": {},
   "source": [
    "---\n",
    "\n",
    "pr0fez Giang\n",
    "\n",
    "[LinkedIn][linkedIn_pr0fez]\n",
    "\n",
    "[GitHub portfolio][github_portfolio]\n",
    "\n",
    "[linkedIn_pr0fez]: https://www.linkedin.com/in/pr0fezgiang/\n",
    "[github_portfolio]: https://github.com/pr0fez/Portfolio-pr0fez-Giang\n",
    "\n",
    "---"
   ]
  }
 ],
 "metadata": {
  "kernelspec": {
   "display_name": "Python 3.9.6 64-bit",
   "language": "python",
   "name": "python3"
  },
  "language_info": {
   "codemirror_mode": {
    "name": "ipython",
    "version": 3
   },
   "file_extension": ".py",
   "mimetype": "text/x-python",
   "name": "python",
   "nbconvert_exporter": "python",
   "pygments_lexer": "ipython3",
   "version": "3.12.6"
  },
  "orig_nbformat": 4,
  "vscode": {
   "interpreter": {
    "hash": "0da836a34428266995a795f1e1e27b816fa1c02f148d9728b3fbbbc5459afca6"
   }
  }
 },
 "nbformat": 4,
 "nbformat_minor": 2
}
