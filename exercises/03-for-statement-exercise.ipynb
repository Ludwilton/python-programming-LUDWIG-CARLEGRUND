{
 "cells": [
  {
   "cell_type": "markdown",
   "metadata": {},
   "source": [
    "<a href=\"https://colab.research.google.com/github/pr0fez/AI24-Programmering/blob/master/Exercises/03-for-statement-exercise.ipynb\" target=\"_parent\"><img align=\"left\" src=\"https://colab.research.google.com/assets/colab-badge.svg\" alt=\"Open In Colab\"/></a> &nbsp; to see hints and answers."
   ]
  },
  {
   "cell_type": "markdown",
   "metadata": {},
   "source": [
    "# for statement exercises\n",
    "\n",
    "---\n",
    "These are introductory exercises in Python with focus in **for** statement.\n",
    "\n",
    "<p class = \"alert alert-info\" role=\"alert\"><b>Remember</b> to use <b>descriptive variable names</b> in order to get readable code </p>\n",
    "\n",
    "<p class = \"alert alert-info\" role=\"alert\"><b>Remember</b> to format your answers in a neat way using <b>f-strings</b>\n",
    "\n",
    "<p class = \"alert alert-info\" role=\"alert\"><b>Remember</b> to format your input questions in a pedagogical way to guide the user\n",
    "\n",
    "The number of stars (\\*), (\\*\\*), (\\*\\*\\*) denotes the difficulty level of the task\n",
    "\n",
    "---"
   ]
  },
  {
   "cell_type": "markdown",
   "metadata": {},
   "source": [
    "## 1. Count numbers (*)\n",
    "\n",
    "Use a **for** statement to count from: \n",
    "\n",
    "&nbsp; a) &nbsp; -10 to 10 with one increment (*)\n",
    "\n",
    "&nbsp; b) &nbsp; -10 to 10 with two increment (*)\n",
    "\n",
    "<details>\n",
    "\n",
    "<summary>Answer </summary>\n",
    "\n",
    "```\n",
    "a) -10 -9 -8 -7 -6 -5 -4 -3 -2 -1 0 1 2 3 4 5 6 7 8 9 10\n",
    "\n",
    "b) -10  -8  -6  -4  -2  0  2  4  6  8  10\n",
    "```\n",
    "\n",
    "</details>\n",
    "\n"
   ]
  },
  {
   "cell_type": "code",
   "execution_count": 9,
   "metadata": {},
   "outputs": [
    {
     "name": "stdout",
     "output_type": "stream",
     "text": [
      "-10 -9 -8 -7 -6 -5 -4 -3 -2 -1 0 1 2 3 4 5 6 7 8 9 10 \n",
      "\n",
      "-10 -8 -6 -4 -2 0 2 4 6 8 10 "
     ]
    }
   ],
   "source": [
    "for i in range(-10,11):\n",
    "    print(i, end=\" \")\n",
    "print(\"\\n\")\n",
    "for i in range(-10,12,2):\n",
    "    print(i, end=\" \")"
   ]
  },
  {
   "cell_type": "markdown",
   "metadata": {},
   "source": [
    "---\n",
    "## 2. Arithmetic sum (*)\n",
    "Use a **for** statement to compute the following sums: \n",
    "\n",
    "&nbsp; a) &nbsp; $\\text{sum} = 1 + 2 + \\ldots + 99+ 100$ (*)\n",
    "\n",
    "&nbsp; b) &nbsp; $\\text{sum} = 1 + 3 + 5 + \\ldots + 97 + 99$ (*)\n",
    "\n",
    "<details>\n",
    "\n",
    "<summary>Answer </summary>\n",
    "\n",
    "```\n",
    "a) 1 + 2 + ... + 99 + 100 = 5050 \n",
    "\n",
    "b) 1 + 3 + 5 +...+ 97 + 99 = 2500\n",
    "```\n",
    "\n",
    "</details>\n"
   ]
  },
  {
   "cell_type": "code",
   "execution_count": 11,
   "metadata": {},
   "outputs": [
    {
     "name": "stdout",
     "output_type": "stream",
     "text": [
      "1\n",
      "4\n",
      "9\n",
      "16\n",
      "25\n",
      "36\n",
      "49\n",
      "64\n",
      "81\n",
      "100\n",
      "121\n",
      "144\n",
      "169\n",
      "196\n",
      "225\n",
      "256\n",
      "289\n",
      "324\n",
      "361\n",
      "400\n",
      "441\n",
      "484\n",
      "529\n",
      "576\n",
      "625\n",
      "676\n",
      "729\n",
      "784\n",
      "841\n",
      "900\n",
      "961\n",
      "1024\n",
      "1089\n",
      "1156\n",
      "1225\n",
      "1296\n",
      "1369\n",
      "1444\n",
      "1521\n",
      "1600\n",
      "1681\n",
      "1764\n",
      "1849\n",
      "1936\n",
      "2025\n",
      "2116\n",
      "2209\n",
      "2304\n",
      "2401\n",
      "2500\n"
     ]
    }
   ],
   "source": [
    "# n = 101\n",
    "# summa = 0\n",
    "# for i in range(n):\n",
    "#     summa += i\n",
    "#     print(summa)\n",
    "\n",
    "y = 100\n",
    "summa = 0 \n",
    "for i in range(1, y, 2):\n",
    "    summa += i\n",
    "    print(summa)\n"
   ]
  },
  {
   "cell_type": "markdown",
   "metadata": {},
   "source": [
    "---\n",
    "## 3. Multiplication table (*)\n",
    "Use **for** statement(s) to:\n",
    "\n",
    "&nbsp; a) &nbsp; print out the 6th multiplication table from 0 to 10 (*)\n",
    "\n",
    "&nbsp; b) &nbsp; let the user input the **table**, **start** and **end** of the table. (*)\n",
    "\n",
    "&nbsp; c) &nbsp; print out a full multiplication table from 0 to 10. (**)\n",
    "\n",
    "\n",
    "<details>\n",
    "\n",
    "<summary>Hint</summary>\n",
    "\n",
    "c) Use nested for-loops, which means a for-loop in a for-loop. To format the table nicely, use **f-string**: \n",
    "\n",
    "```python\n",
    "print(f\"{number :4}\", end = \"\")\n",
    "```\n",
    "\n",
    "\n",
    "</details>\n",
    "\n",
    "\n",
    "<details>\n",
    "\n",
    "<summary>Answer </summary>\n",
    "\n",
    "a)\n",
    "```\n",
    "0 6 12 18 24 30 36 42 48 54 60\n",
    "```\n",
    "\n",
    "b) e.g. \n",
    "\n",
    "```\n",
    "Which table are you interested in? 5\n",
    "Specify start of table: 5\n",
    "Specify end of table: 12\n",
    "\n",
    "Your 5th multiplication table from 5 to 12: 25 30 35 40 45 50 55 60\n",
    "```\n",
    "\n",
    "c)\n",
    "\n",
    "```\n",
    "   0   0   0   0   0   0   0   0   0   0   0\n",
    "   0   1   2   3   4   5   6   7   8   9  10\n",
    "   0   2   4   6   8  10  12  14  16  18  20\n",
    "   0   3   6   9  12  15  18  21  24  27  30\n",
    "   0   4   8  12  16  20  24  28  32  36  40\n",
    "   0   5  10  15  20  25  30  35  40  45  50\n",
    "   0   6  12  18  24  30  36  42  48  54  60\n",
    "   0   7  14  21  28  35  42  49  56  63  70\n",
    "   0   8  16  24  32  40  48  56  64  72  80\n",
    "   0   9  18  27  36  45  54  63  72  81  90\n",
    "   0  10  20  30  40  50  60  70  80  90 100\n",
    "```\n",
    "\n",
    "</details>"
   ]
  },
  {
   "cell_type": "code",
   "execution_count": 519,
   "metadata": {},
   "outputs": [
    {
     "name": "stdout",
     "output_type": "stream",
     "text": [
      "\n",
      "\n",
      "  0    0    0    0    0    0    0    0    0    0    0  \n",
      "\n",
      "  0    1    2    3    4    5    6    7    8    9   10  \n",
      "\n",
      "  0    2    4    6    8   10   12   14   16   18   20  \n",
      "\n",
      "  0    3    6    9   12   15   18   21   24   27   30  \n",
      "\n",
      "  0    4    8   12   16   20   24   28   32   36   40  \n",
      "\n",
      "  0    5   10   15   20   25   30   35   40   45   50  \n",
      "\n",
      "  0    6   12   18   24   30   36   42   48   54   60  \n",
      "\n",
      "  0    7   14   21   28   35   42   49   56   63   70  \n",
      "\n",
      "  0    8   16   24   32   40   48   56   64   72   80  \n",
      "\n",
      "  0    9   18   27   36   45   54   63   72   81   90  \n",
      "\n",
      "  0   10   20   30   40   50   60   70   80   90  100  "
     ]
    },
    {
     "ename": "ValueError",
     "evalue": "invalid literal for int() with base 10: ''",
     "output_type": "error",
     "traceback": [
      "\u001b[0;31m---------------------------------------------------------------------------\u001b[0m",
      "\u001b[0;31mValueError\u001b[0m                                Traceback (most recent call last)",
      "Cell \u001b[0;32mIn[519], line 25\u001b[0m\n\u001b[1;32m     21\u001b[0m             \u001b[38;5;28mprint\u001b[39m(\u001b[38;5;124mf\u001b[39m\u001b[38;5;124m\"\u001b[39m\u001b[38;5;132;01m{\u001b[39;00mi\u001b[38;5;250m \u001b[39m\u001b[38;5;241m*\u001b[39m\u001b[38;5;250m \u001b[39my\u001b[38;5;132;01m:\u001b[39;00m\u001b[38;5;124m>3\u001b[39m\u001b[38;5;132;01m}\u001b[39;00m\u001b[38;5;124m\"\u001b[39m, end\u001b[38;5;241m=\u001b[39m\u001b[38;5;124m\"\u001b[39m\u001b[38;5;124m  \u001b[39m\u001b[38;5;124m\"\u001b[39m)\n\u001b[1;32m     24\u001b[0m tenbyten()\n\u001b[0;32m---> 25\u001b[0m \u001b[43muser_input\u001b[49m\u001b[43m(\u001b[49m\u001b[43m)\u001b[49m\n",
      "Cell \u001b[0;32mIn[519], line 4\u001b[0m, in \u001b[0;36muser_input\u001b[0;34m()\u001b[0m\n\u001b[1;32m      1\u001b[0m \u001b[38;5;28;01mdef\u001b[39;00m \u001b[38;5;21muser_input\u001b[39m():\n\u001b[1;32m      2\u001b[0m     \u001b[38;5;28;01mwhile\u001b[39;00m \u001b[38;5;28;01mTrue\u001b[39;00m:\n\u001b[0;32m----> 4\u001b[0m         table \u001b[38;5;241m=\u001b[39m \u001b[38;5;28;43mint\u001b[39;49m\u001b[43m(\u001b[49m\u001b[38;5;28;43minput\u001b[39;49m\u001b[43m(\u001b[49m\u001b[38;5;124;43m\"\u001b[39;49m\u001b[38;5;124;43mWhich table are you interested in?: \u001b[39;49m\u001b[38;5;124;43m\"\u001b[39;49m\u001b[43m)\u001b[49m\u001b[43m)\u001b[49m\n\u001b[1;32m      5\u001b[0m         start \u001b[38;5;241m=\u001b[39m \u001b[38;5;28mint\u001b[39m(\u001b[38;5;28minput\u001b[39m(\u001b[38;5;124m\"\u001b[39m\u001b[38;5;124mspecify start of table: \u001b[39m\u001b[38;5;124m\"\u001b[39m))\n\u001b[1;32m      6\u001b[0m         end \u001b[38;5;241m=\u001b[39m \u001b[38;5;28mint\u001b[39m(\u001b[38;5;28minput\u001b[39m(\u001b[38;5;124m\"\u001b[39m\u001b[38;5;124mspecify end of table: \u001b[39m\u001b[38;5;124m\"\u001b[39m))\n",
      "\u001b[0;31mValueError\u001b[0m: invalid literal for int() with base 10: ''"
     ]
    }
   ],
   "source": [
    "\n",
    "def user_input():\n",
    "    while True:\n",
    "        \n",
    "        table = int(input(\"Which table are you interested in?: \"))\n",
    "        start = int(input(\"specify start of table: \"))\n",
    "        end = int(input(\"specify end of table: \"))\n",
    "        print(f\"\\n\\nUser asked for table {table}, Start: {start}, end: {end}\\n\")\n",
    "        for i in range(start, end+1):\n",
    "            print(f\"{i*table:>3}\", end=\" \")\n",
    "        \n",
    "        break\n",
    "\n",
    "\n",
    "def tenbyten():\n",
    "    y = 11\n",
    "    x = 11\n",
    "\n",
    "    for i in range(y):\n",
    "        print(\"\\n\")\n",
    "        for y in range(x):\n",
    "            print(f\"{i * y:>3}\", end=\"  \")\n",
    "\n",
    "\n",
    "tenbyten()\n",
    "user_input()\n"
   ]
  },
  {
   "cell_type": "markdown",
   "metadata": {},
   "source": [
    "---\n",
    "## 4. Faculty (*)\n",
    "\n",
    "Use a **for** statement to compute $n!$. \n",
    "\n",
    "$n! = 1\\cdot2\\cdot3\\cdot\\ldots\\cdot(n-1)\\cdot n $\n",
    "\n",
    "Let the user input $n$. "
   ]
  },
  {
   "cell_type": "code",
   "execution_count": 509,
   "metadata": {},
   "outputs": [
    {
     "name": "stdout",
     "output_type": "stream",
     "text": [
      "30\n",
      "5\n",
      "30\n"
     ]
    }
   ],
   "source": [
    "def faculty(n):\n",
    "    return ((n-1) * n)\n",
    "\n",
    "produkt = faculty(6)\n",
    "print(produkt)\n",
    "\n",
    "n=6\n",
    "summa = 1\n",
    "for i in range(n-1, n+1):\n",
    "    summa *= i\n",
    "    print(summa)\n"
   ]
  },
  {
   "cell_type": "markdown",
   "metadata": {},
   "source": [
    "--- \n",
    "## 5. Guess the number (*)\n",
    "\n",
    "The computer thinks of a four-digit number. Start by creating a random four-digit number. Use **for** statement to figure out a correct guess\n",
    "\n",
    "<br>\n",
    "<details>\n",
    "\n",
    "<summary>Answer </summary>\n",
    "\n",
    "e.g.\n",
    "```\n",
    "The final guess is 8993\n",
    "The computer number is 8993\n",
    "```\n",
    "\n",
    "</details>"
   ]
  },
  {
   "cell_type": "code",
   "execution_count": 510,
   "metadata": {},
   "outputs": [
    {
     "name": "stdout",
     "output_type": "stream",
     "text": [
      "Correct guess was found at 12 iterations, RNG:1014 Guess:1014\n"
     ]
    }
   ],
   "source": [
    "import random as rng\n",
    "computer_number = rng.randint(1000,9999)\n",
    "low = 1000\n",
    "high = 9999\n",
    "guess = 0\n",
    "mid = 0\n",
    "for i in range(0,100):\n",
    "    mid = (low + high) // 2\n",
    "    if mid == computer_number:\n",
    "        print(f\"Correct guess was found at {i} iterations, RNG:{computer_number} Guess:{mid}\")\n",
    "        break\n",
    "    elif mid < computer_number:\n",
    "        low = mid + 1\n",
    "    else:\n",
    "        high = mid -1\n",
    "\n",
    "\n",
    "    "
   ]
  },
  {
   "cell_type": "markdown",
   "metadata": {},
   "source": [
    "---\n",
    "## 6. Rice on chessboard (*)\n",
    "\n",
    "In first square of the chessboard there is one grain of rice, in the second square there is two grains, in the third square there is four grains and so on. How many grains are there in the whole chessboard when all squares are filled using this pattern?\n",
    "\n",
    "<img align=\"left\" src=\"../assets/chessboard.png\" width=\"300\"/>"
   ]
  },
  {
   "cell_type": "markdown",
   "metadata": {},
   "source": [
    "<details>\n",
    "\n",
    "<summary>Answer</summary>\n",
    "\n",
    "```\n",
    "18446744073709551615 number of grains\n",
    "```\n",
    "\n",
    "</details>"
   ]
  },
  {
   "cell_type": "code",
   "execution_count": 511,
   "metadata": {},
   "outputs": [
    {
     "name": "stdout",
     "output_type": "stream",
     "text": [
      "Amount of rice: 18446744073709551616\n"
     ]
    }
   ],
   "source": [
    "y = 8 \n",
    "x = 8\n",
    "rice = 1\n",
    "for i in range(x):\n",
    "    for i in range(y):\n",
    "        rice *=2\n",
    "print(f\"Amount of rice: {rice}\")"
   ]
  },
  {
   "cell_type": "markdown",
   "metadata": {},
   "source": [
    "---\n",
    "\n",
    "pr0fez Giang\n",
    "\n",
    "[LinkedIn][linkedIn_pr0fez]\n",
    "\n",
    "[GitHub portfolio][github_portfolio]\n",
    "\n",
    "[linkedIn_pr0fez]: https://www.linkedin.com/in/pr0fezgiang/\n",
    "[github_portfolio]: https://github.com/pr0fez/Portfolio-pr0fez-Giang\n",
    "\n",
    "---"
   ]
  }
 ],
 "metadata": {
  "kernelspec": {
   "display_name": "Python 3.9.6 64-bit",
   "language": "python",
   "name": "python3"
  },
  "language_info": {
   "codemirror_mode": {
    "name": "ipython",
    "version": 3
   },
   "file_extension": ".py",
   "mimetype": "text/x-python",
   "name": "python",
   "nbconvert_exporter": "python",
   "pygments_lexer": "ipython3",
   "version": "3.12.2"
  },
  "orig_nbformat": 4,
  "vscode": {
   "interpreter": {
    "hash": "0da836a34428266995a795f1e1e27b816fa1c02f148d9728b3fbbbc5459afca6"
   }
  }
 },
 "nbformat": 4,
 "nbformat_minor": 2
}
