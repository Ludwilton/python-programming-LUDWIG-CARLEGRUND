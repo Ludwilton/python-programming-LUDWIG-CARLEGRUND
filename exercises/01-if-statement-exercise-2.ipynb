{
 "cells": [
  {
   "cell_type": "markdown",
   "metadata": {},
   "source": [
    "\n",
    "<a href=\"https://colab.research.google.com/github/pr0fez/AI24-Programmering/blob/master/Exercises/01-if-statement-exercise.ipynb\" target=\"_parent\"><img align=\"left\" src=\"https://colab.research.google.com/assets/colab-badge.svg\" alt=\"Open In Colab\"/></a> &nbsp; to see hints and answers."
   ]
  },
  {
   "cell_type": "markdown",
   "metadata": {},
   "source": [
    "# if statements exercises\n",
    "\n",
    "---\n",
    "These are introductory exercises in Python with focus in **if** statement.\n",
    "\n",
    "<p class = \"alert alert-info\" role=\"alert\"><b>Remember</b> to use <b>descriptive variable names</b> in order to get readable code </p>\n",
    "\n",
    "<p class = \"alert alert-info\" role=\"alert\"><b>Remember</b> to format your answers in a neat way using <b>f-strings</b>\n",
    "\n",
    "<p class = \"alert alert-info\" role=\"alert\"><b>Remember</b> to format your input questions in a pedagogical way to guide the user\n",
    "\n",
    "The number of stars (\\*), (\\*\\*), (\\*\\*\\*) denotes the difficulty level of the task\n",
    "\n",
    "---"
   ]
  },
  {
   "cell_type": "markdown",
   "metadata": {},
   "source": [
    "## 1. Check sign (*)\n",
    "\n",
    "Ask the user to input a number and check if this number is **positive**, **negative** or **zero** and print it out."
   ]
  },
  {
   "cell_type": "code",
   "execution_count": null,
   "metadata": {},
   "outputs": [],
   "source": [
    "inmatning = int(input(\"skriv in en siffra, negativ, positiv eller 0: \"))\n",
    "    # if inmatning == 0:\n",
    "    #     print(\"svaret är 0\")\n",
    "    # elif inmatning > 0:\n",
    "    #     print(f\"din inmatning är positiv\")\n",
    "    # else:\n",
    "    #     print(f\"din inmatning är negativ\")\n",
    "\n",
    "        \n",
    "\n"
   ]
  },
  {
   "cell_type": "markdown",
   "metadata": {},
   "source": [
    "---\n",
    "## 2. Smallest (*)\n",
    "Ask the user to input two numbers and check which one is the smallest and print it out.   "
   ]
  },
  {
   "cell_type": "code",
   "execution_count": null,
   "metadata": {},
   "outputs": [],
   "source": [
    "import numpy as np\n",
    "\n",
    "number1 = int(input(\"ange en siffra: \"))\n",
    "number2 = int(input(\"ange en siffra till: \"))\n",
    "\n",
    "biggest = max(number1, number2)\n",
    "print(biggest)"
   ]
  },
  {
   "cell_type": "markdown",
   "metadata": {},
   "source": [
    "---\n",
    "## 3. Right angle (*)\n",
    "\n",
    "Ask the user to input three angles and check if the triangle has a right angle. Your code should make sure that all three angles are valid and make up a triangle.\n",
    "\n",
    "<img align=\"left\" src=\"../assets/triangle_angles.png\" width=\"200\"/>"
   ]
  },
  {
   "cell_type": "code",
   "execution_count": null,
   "metadata": {},
   "outputs": [],
   "source": [
    "corner1 = float(input(\"Ange hörn 1: \"))\n",
    "corner2 = float(input(\"Ange hörn 2: \"))\n",
    "corner3 = float(input(\"Ange hörn 3: \"))\n",
    "sum = (corner1 + corner2 + corner3)\n",
    "if sum == 180:\n",
    "    if corner1 == 90 or corner2 == 90 or corner3 == 90:\n",
    "        print(\"triangle with right angle\")\n",
    "    else:\n",
    "        print(\"triangle, no right angle\")\n",
    "else:\n",
    "    print(\"not a triangle\")\n",
    "    \n",
    "\n",
    " # EXAMPLE NUMBERS FOR TESTING\n",
    " # WITH RIGHT ANGLE:\n",
    " # A 50\n",
    " # B 90\n",
    " # C 40\n",
    " # \n",
    " # NOT A RIGHT ANGLE\n",
    " # A 58\n",
    " # B 81\n",
    " # C 40\n",
    " # \n",
    " # NOT A TRIANGLE\n",
    " # A 95\n",
    " # B 46\n",
    " # C 40\n",
    " \n"
   ]
  },
  {
   "cell_type": "markdown",
   "metadata": {},
   "source": [
    "----\n",
    "## 4. Medicine (*)\n",
    "\n",
    "The information in the following table is stated in a medicine package. Also it is stated that for children weight is more important than age.\n",
    "\n",
    "<table align=\"left\">\n",
    "<thead>\n",
    "    <tr>\n",
    "        <th></th>\n",
    "        <th>Age</th>\n",
    "        <th>Number of pills</th>\n",
    "    </tr>\n",
    "</thead>\n",
    "\n",
    "<tbody>\n",
    "  <tr>\n",
    "    <td>Adults & adolescent <br>over 40 kg</td>\n",
    "    <td>over 12 years</td>\n",
    "    <td>1-2</td>\n",
    "  </tr>\n",
    "\n",
    "  <tr>\n",
    "    <td>Children 26-40 kg</td>\n",
    "    <td>7-12 years</td>\n",
    "    <td>1/2-1</td>\n",
    "  </tr>\n",
    "\n",
    "  <tr>\n",
    "    <td>Children 15-25 kg</td>\n",
    "    <td>3-7 years</td>\n",
    "    <td>1/2</td>\n",
    "  </tr>\n",
    "</tbody>\n",
    "</table>"
   ]
  },
  {
   "cell_type": "markdown",
   "metadata": {},
   "source": [
    "Let the user input an **age** and a **weight**, the program should recommend the number of pills for the user."
   ]
  },
  {
   "cell_type": "code",
   "execution_count": 77,
   "metadata": {},
   "outputs": [
    {
     "name": "stdout",
     "output_type": "stream",
     "text": [
      "107\n",
      "2\n"
     ]
    }
   ],
   "source": [
    "age = int(input(\"age: \"))\n",
    "weight = int(input(\"weight: \"))\n",
    "\n",
    "\n",
    "weight * 0.60\n",
    "age * 0.40\n",
    "formula = weight + age\n",
    "print(formula)\n",
    "\n",
    "# lägsta 0 18\n",
    "# högsta 0 32\n",
    "# lägsta 1 33\n",
    "# högsta 1 52\n",
    "# lägsta 2 53\n",
    "# högsta 2 78\n",
    "\n",
    "if sum < 32:\n",
    "    print(\"1/2\")\n",
    "elif sum > 33 and sum < 41:\n",
    "    print(\"1/2\")\n",
    "elif sum > 41 and sum < 52:\n",
    "    print(\"1\")\n",
    "elif sum > 53 and sum < 65:\n",
    "    print(\"1,5\")\n",
    "else:\n",
    "    print(\"2\")\n",
    "\n"
   ]
  },
  {
   "cell_type": "markdown",
   "metadata": {},
   "source": [
    "---\n",
    "## 5. Divisible (*)\n",
    "Let the user input a number. Check if the number is\n",
    "<ol type=\"a\">\n",
    "  <li>even or odd</li>\n",
    "  <li>is divisible by 5</li>\n",
    "  <li>is divisble by 5 and odd</li>\n",
    "</ol> "
   ]
  },
  {
   "cell_type": "code",
   "execution_count": 1,
   "metadata": {},
   "outputs": [
    {
     "name": "stdout",
     "output_type": "stream",
     "text": [
      "odd, 5\n"
     ]
    }
   ],
   "source": [
    "a = int(input(\"enter a number\"))\n",
    "if a % 5 == 0:\n",
    "    print(\"true\")\n",
    "elif a % 5 == 0 or a % 2 == 0:\n",
    "    print(\"odd, 5\")\n"
   ]
  },
  {
   "cell_type": "markdown",
   "metadata": {},
   "source": [
    "---\n",
    "## 6. Luggage size (*)\n",
    "\n",
    "The maximum allowed luggage size for boarding an airplane is: \n",
    "- weight: 8kg\n",
    "- dimensions: 55x40x23cm (length x width x height) \n",
    "\n",
    "Let the user input weight, length, width and height of the luggage. The program should check if the luggage is allowed or not."
   ]
  },
  {
   "cell_type": "code",
   "execution_count": 2,
   "metadata": {},
   "outputs": [
    {
     "name": "stdout",
     "output_type": "stream",
     "text": [
      "ALLOWED\n"
     ]
    }
   ],
   "source": [
    "w = 8\n",
    "x = 55\n",
    "y = 40\n",
    "z = 23\n",
    "\n",
    "wi = int(input(\"weight\"))\n",
    "xi = int(input(\"längd\"))\n",
    "yi = int(input(\"bredd\"))\n",
    "zi = int(input(\"djup\"))\n",
    "\n",
    "if wi <= w and xi <= x and yi <= y and zi <= z:\n",
    "    print(\"ALLOWED\")\n",
    "else:\n",
    "    print(\"not allowed\")\n"
   ]
  },
  {
   "cell_type": "markdown",
   "metadata": {},
   "source": [
    "---\n",
    "\n",
    "pr0fez Giang\n",
    "\n",
    "[LinkedIn][linkedIn_pr0fez]\n",
    "\n",
    "[GitHub portfolio][github_portfolio]\n",
    "\n",
    "[linkedIn_pr0fez]: https://www.linkedin.com/in/pr0fezgiang/\n",
    "[github_portfolio]: https://github.com/pr0fez/Portfolio-pr0fez-Giang\n",
    "\n",
    "---"
   ]
  }
 ],
 "metadata": {
  "kernelspec": {
   "display_name": "Python 3",
   "language": "python",
   "name": "python3"
  },
  "language_info": {
   "codemirror_mode": {
    "name": "ipython",
    "version": 3
   },
   "file_extension": ".py",
   "mimetype": "text/x-python",
   "name": "python",
   "nbconvert_exporter": "python",
   "pygments_lexer": "ipython3",
   "version": "3.12.2"
  },
  "orig_nbformat": 4
 },
 "nbformat": 4,
 "nbformat_minor": 2
}
